{
 "cells": [
  {
   "cell_type": "markdown",
   "id": "ea7fddf3-bd31-49fc-a4d9-cd2db2fff868",
   "metadata": {},
   "source": [
    "<h2>Importing Required Libraries</h2>"
   ]
  },
  {
   "cell_type": "code",
   "execution_count": 1,
   "id": "f1316ea9-0b93-4c5f-ab3b-81e3abeeef84",
   "metadata": {},
   "outputs": [
    {
     "name": "stderr",
     "output_type": "stream",
     "text": [
      "C:\\Users\\butta\\AppData\\Local\\Programs\\Python\\Python311\\Lib\\site-packages\\torchvision\\datapoints\\__init__.py:12: UserWarning: The torchvision.datapoints and torchvision.transforms.v2 namespaces are still Beta. While we do not expect major breaking changes, some APIs may still change according to user feedback. Please submit any feedback you may have in this issue: https://github.com/pytorch/vision/issues/6753, and you can also check out https://github.com/pytorch/vision/issues/7319 to learn more about the APIs that we suspect might involve future changes. You can silence this warning by calling torchvision.disable_beta_transforms_warning().\n",
      "  warnings.warn(_BETA_TRANSFORMS_WARNING)\n",
      "C:\\Users\\butta\\AppData\\Local\\Programs\\Python\\Python311\\Lib\\site-packages\\torchvision\\transforms\\v2\\__init__.py:54: UserWarning: The torchvision.datapoints and torchvision.transforms.v2 namespaces are still Beta. While we do not expect major breaking changes, some APIs may still change according to user feedback. Please submit any feedback you may have in this issue: https://github.com/pytorch/vision/issues/6753, and you can also check out https://github.com/pytorch/vision/issues/7319 to learn more about the APIs that we suspect might involve future changes. You can silence this warning by calling torchvision.disable_beta_transforms_warning().\n",
      "  warnings.warn(_BETA_TRANSFORMS_WARNING)\n"
     ]
    }
   ],
   "source": [
    "from langchain_google_genai import ChatGoogleGenerativeAI\n",
    "from langchain.schema import SystemMessage, HumanMessage\n",
    "from langchain.tools import Tool\n",
    "from typing import List, Optional\n",
    "from sklearn.metrics.pairwise import cosine_similarity\n",
    "from langchain_community.tools import DuckDuckGoSearchRun\n",
    "import numpy as np\n",
    "from datetime import datetime\n",
    "from sentence_transformers import SentenceTransformer\n",
    "from langchain.agents import initialize_agent, AgentType\n",
    "from langchain.document_loaders import UnstructuredURLLoader\n",
    "from langchain.text_splitter import RecursiveCharacterTextSplitter\n",
    "from langchain.embeddings import HuggingFaceHubEmbeddings\n",
    "from langchain.vectorstores import FAISS\n",
    "import os"
   ]
  },
  {
   "cell_type": "code",
   "execution_count": null,
   "id": "3f2e3ccf-22da-4c41-a263-2673d303e692",
   "metadata": {},
   "outputs": [],
   "source": []
  },
  {
   "cell_type": "markdown",
   "id": "36c856e0-8216-46bc-87a5-1eb1b98197fd",
   "metadata": {},
   "source": [
    "<h2>Data to test email search</h2>"
   ]
  },
  {
   "cell_type": "code",
   "execution_count": 3,
   "id": "ac7dde74-a9ce-4a5b-9aeb-2be991118bea",
   "metadata": {},
   "outputs": [],
   "source": [
    "# we can use Gmail Api to obtain these emails\n",
    "\n",
    "emails = [\n",
    "    {'timestamp': '2025-02-21 09:15:32', 'sender': 'rahul@company.com', 'content': 'Pull Request #10 has been raised for the latest bug fix on validation error for react forms. Please review and approve.'},\n",
    "    {'timestamp': '2025-02-21 10:05:14', 'sender': 'rajesh@company.com', 'content': 'There is an issue with the API response time. I have raised ticket #5678 for investigation.'},\n",
    "    {'timestamp': '2025-02-20 11:32:45', 'sender': 'ram@company.com', 'content': 'Assigning task #11 to Rahul for UI improvements. Deadline is Friday.'},\n",
    "    {'timestamp': '2025-02-20 12:47:21', 'sender': 'raghu@company.com', 'content': 'Pull Request #12 is ready for review. This includes performance optimizations.'},\n",
    "    {'timestamp': '2025-02-20 14:03:09', 'sender': 'raghav@company.com', 'content': 'Created a new task #13 for backend refactoring. Let me know who can take it.'},\n",
    "    {'timestamp': '2025-02-20 15:25:34', 'sender': 'raju@company.com', 'content': 'The security vulnerability reported last week has been patched. Pull Request(PR) #14 raised.'},\n",
    "    {'timestamp': '2025-02-20 16:12:50', 'sender': 'ramu@company.com', 'content': 'The deployment pipeline failed due to a misconfiguration. Issue #100 has been logged.'},\n",
    "    {'timestamp': '2025-02-19 17:44:12', 'sender': 'roshan@company.com', 'content': 'Assigning ticket #15 to the DevOps team for infrastructure scaling.'},\n",
    "    {'timestamp': '2025-02-19 18:56:40', 'sender': 'rohit@company.com', 'content': 'Pull Request #16 contains the latest API enhancements. Please review before EOD.'},\n",
    "    {'timestamp': '2025-02-19 19:30:00', 'sender': 'rao@company.com', 'content': 'Raised issue #101 regarding broken openai api. Need urgent fix.'},\n",
    "    {'timestamp': '2025-02-18 19:30:15', 'sender': 'ramesh@company.com', 'content': 'Get to know obstacle detection in autonomous cars, we need to gain a deeper understanding of the concept in order to implement it in upcoming project'}\n",
    "]"
   ]
  },
  {
   "cell_type": "code",
   "execution_count": null,
   "id": "0433188a-a6c3-4428-bd4a-fdc995a0c5a5",
   "metadata": {},
   "outputs": [],
   "source": []
  },
  {
   "cell_type": "markdown",
   "id": "44cbbc20-ffc5-42d5-96b6-946e1dc296a9",
   "metadata": {},
   "source": [
    "<h2>Email Search Tool</h2>"
   ]
  },
  {
   "cell_type": "markdown",
   "id": "486e8970-aff0-4c11-b479-dd6e4659ce31",
   "metadata": {},
   "source": [
    "<p>At least one argument (sender, email_content, or timestamp) is required for the search.</p>\n",
    "<p>The function integrated three different methods to search emails from the list:</p>\n",
    "<ol>\n",
    "    <li> If the sender parameter is provided, the function looks for an exact match in the email list.</li>\n",
    "    <li>If email_content is provided, the function uses semantic similarity with vector embeddings to find relevant emails.</li>\n",
    "    <li>f timestamp is provided, the function performs a linear search to find emails matching the given timestamp.</li>\n",
    "</ol>"
   ]
  },
  {
   "cell_type": "code",
   "execution_count": 4,
   "id": "1fb5b176-773b-4b2d-8b54-7901c41e8851",
   "metadata": {},
   "outputs": [],
   "source": [
    "\n",
    "def email_search(\n",
    "    email_content: Optional[str] = None,\n",
    "    sender: Optional[str] = None,\n",
    "    timestamp: Optional[str] = None,\n",
    "    similarity_threshold: float = 0.25  # After experimenting 0.3 threshold worked well\n",
    ") -> List[dict]:\n",
    "    \"\"\"\n",
    "    Searches through emails based on content similarity, sender, or timestamp.\n",
    "    \"\"\"\n",
    "    if not any([email_content, sender, timestamp]):\n",
    "        raise ValueError(\"At least one parameter (email_content, sender, or timestamp) must be provided.\") #to make sure atlease one parameter is present\n",
    "    \n",
    "    results = emails  \n",
    "\n",
    "    # IF snder argument is given \n",
    "    \n",
    "    if sender:\n",
    "        sender = sender.strip().lower()\n",
    "        results = [email for email in emails if email['sender'].strip().lower() == sender]\n",
    "\n",
    "    #if timestamp argument is given\n",
    "    \n",
    "    if timestamp:\n",
    "        try:\n",
    "            target_timestamp = datetime.strptime(timestamp, \"%Y-%m-%d %H:%M:%S\")\n",
    "            results = [\n",
    "                email for email in results\n",
    "                if datetime.strptime(email['timestamp'], \"%Y-%m-%d %H:%M:%S\") == target_timestamp\n",
    "            ]\n",
    "        except ValueError:\n",
    "            raise ValueError(\"Timestamp must be in the format 'YYYY-MM-DD HH:MM:SS'.\")\n",
    "\n",
    "    #If email content argument is given\n",
    "    \n",
    "    if email_content and results:\n",
    "        model = SentenceTransformer('all-MiniLM-L6-v2')\n",
    "        query_embedding = model.encode(email_content, convert_to_numpy=True)\n",
    "        email_embeddings = model.encode([email['content'] for email in results], convert_to_numpy=True)\n",
    "        \n",
    "        # cosine similarity\n",
    "        similarities = cosine_similarity(query_embedding.reshape(1, -1), email_embeddings).flatten()\n",
    "        \n",
    "        results = [email for email, sim in zip(results, similarities) if sim >= similarity_threshold]\n",
    "    \n",
    "    return results"
   ]
  },
  {
   "cell_type": "markdown",
   "id": "58c96e20-8f4c-4591-861f-345fc744c974",
   "metadata": {},
   "source": [
    "<h2>Web Search Tool</h2>"
   ]
  },
  {
   "cell_type": "markdown",
   "id": "2c50848e-c578-4639-bf15-e61726792010",
   "metadata": {},
   "source": [
    "<p>Tried out duckduckgo search and google serper</p>"
   ]
  },
  {
   "cell_type": "code",
   "execution_count": 5,
   "id": "951c31e5-4813-4aac-8fdc-4b4a66822258",
   "metadata": {},
   "outputs": [],
   "source": [
    "def web_search(query: str) -> str:\n",
    "    \"\"\"\n",
    "    Executes a search query on the internet to retrieve relevant web pages, articles, or resources.\n",
    "    \"\"\"\n",
    "    search = DuckDuckGoSearchRun()\n",
    "    result = search.run(query)\n",
    "    return result"
   ]
  },
  {
   "cell_type": "markdown",
   "id": "d83a42b1-31a0-40da-b025-1cc4a1aed1a0",
   "metadata": {},
   "source": [
    "<h2>Company Website Search Tool</h2>"
   ]
  },
  {
   "cell_type": "markdown",
   "id": "0da220e6-b08f-4b89-8d6a-09d73cfbb992",
   "metadata": {},
   "source": [
    "<p>Implemented using RAG-based retrieval pipeline by fetching relevant documents from a website and using semantic search to find the best-matching results and provided them to the llm</p>\n",
    "<ul>\n",
    "    <li>Used FAISS for embedding similarity</li>\n",
    "    <li>Used Huggingface vector embeddings</li>\n",
    "    <li>Used unstructuredURLLoader to obtain information from website</li>\n",
    "</ul>\n"
   ]
  },
  {
   "cell_type": "code",
   "execution_count": 6,
   "id": "9971b8e9-f090-4220-af11-c500a1e7537e",
   "metadata": {},
   "outputs": [],
   "source": [
    "def company_website_search(query: str) -> str:\n",
    "    \"\"\"\n",
    "    Searches the company website for relevant information based on the query.\n",
    "    \"\"\"\n",
    "\n",
    "    print(\"QUERY1\",query)\n",
    "    urls = [\"https://carnotresearch.com/\"]  \n",
    "    loader = UnstructuredURLLoader(urls=urls)\n",
    "    data = loader.load()\n",
    "    \n",
    "    text_splitter = RecursiveCharacterTextSplitter(\n",
    "        chunk_size=1000,\n",
    "        separators=['\\n\\n', '\\n', '.', ',']\n",
    "    )\n",
    "    \n",
    "    docs = text_splitter.split_documents(data)\n",
    "    \n",
    "    model = \"sentence-transformers/all-mpnet-base-v2\"\n",
    "    hf_token = os.getenv(\"HUGGINGFACE_API_KEY\")\n",
    "    embeddings = HuggingFaceHubEmbeddings(\n",
    "        model=model,\n",
    "        task=\"feature-extraction\",\n",
    "        huggingfacehub_api_token=hf_token,\n",
    "    )\n",
    "\n",
    "    \n",
    "    vectorindices = FAISS.from_documents(docs, embeddings)\n",
    "    \n",
    "    similar_docs = vectorindices.similarity_search(query, k=3)\n",
    "    \n",
    "    return \"\\n\\n\".join([doc.page_content for doc in similar_docs])\n"
   ]
  },
  {
   "cell_type": "markdown",
   "id": "b91962a5-4900-42bc-9f07-67f3a5b14577",
   "metadata": {},
   "source": [
    "<h2>Generating Response</h2>"
   ]
  },
  {
   "cell_type": "code",
   "execution_count": 7,
   "id": "75f58269-15cd-4fcd-97d7-cd171143a0c7",
   "metadata": {},
   "outputs": [],
   "source": [
    "def generate_response(emails,query):\n",
    "    print(\"QUERY\",query)\n",
    "    # Initializing tools\n",
    "\n",
    "    email_search_tool = Tool.from_function(\n",
    "        func=email_search,\n",
    "        name=\"email_search\",\n",
    "        description=\"Searches through emails to locate messages based on content, sender, or timestamp.\"\n",
    "    )\n",
    "\n",
    "    web_search_tool = Tool.from_function(\n",
    "        func=web_search,\n",
    "        name=\"web_search\",\n",
    "        description=\"Executes a search query on the internet to retrieve relevant web pages, articles, or resources.\"\n",
    "    )\n",
    "\n",
    "    company_website_search_tool = Tool.from_function(\n",
    "        func=company_website_search,\n",
    "        name=\"company_website_search\",\n",
    "        description=\"Searches the company website for relevant information based on the query.\"\n",
    "    )\n",
    "\n",
    "\n",
    "    system_prompt = \"\"\"\n",
    "        You are an intelligent assistant that helps users find emails, search the web, and search the company website. \n",
    "        Use the following guidelines:\n",
    "        1. First, analyze the user's query and break it down into its components.\n",
    "        2. Explain which tool will be used and why.\n",
    "        3. Then, use the appropriate tool to retrieve the information.\n",
    "        4. Finally, provide a clear and concise response to the user, including the breakdown of the query.\n",
    "        \n",
    "        For example:\n",
    "        - If the query is about emails, use the `email_search` tool.\n",
    "        - If the query is about general knowledge or web-related topics, use the `web_search` tool.\n",
    "        - If the query is about the company, use the `company_website_search` tool.\n",
    "    \"\"\"\n",
    "\n",
    "\n",
    "    # llm initialization\n",
    "\n",
    "    llm = ChatGoogleGenerativeAI(\n",
    "        model=\"gemini-2.0-flash\",\n",
    "        temperature=0.5,\n",
    "        system_message=SystemMessage(content=system_prompt)\n",
    "    )\n",
    "\n",
    "    tools = [email_search_tool, web_search_tool, company_website_search_tool]\n",
    "\n",
    "    \n",
    "    agent = initialize_agent(\n",
    "        tools=tools,\n",
    "        llm=llm,\n",
    "        agent=AgentType.STRUCTURED_CHAT_ZERO_SHOT_REACT_DESCRIPTION, \n",
    "        verbose=True ,\n",
    "        handle_parsing_errors=True\n",
    "    )\n",
    "\n",
    "    \n",
    "    \n",
    "    response = agent.run(\n",
    "        f\"\"\"\n",
    "        Analyze the following query and break it down into its components. \n",
    "        Explain which tool will be used and why. Then, proceed with the search Include the breakdown in the final response.\n",
    "    \n",
    "        Query: {query}\n",
    "        \"\"\"\n",
    "    )\n",
    "\n",
    "    # print(\"FINAL RESPONSE \",response)\n",
    "\n",
    "    return response\n",
    "    \n"
   ]
  },
  {
   "cell_type": "code",
   "execution_count": 8,
   "id": "fd5283d4-3e70-4e91-b72b-5ac09abfd4f8",
   "metadata": {},
   "outputs": [],
   "source": [
    "def main():\n",
    "    \n",
    "    # dummy data to test email search we can obtain such data using gmail api\n",
    "    emails = [\n",
    "    {'timestamp': '2025-02-21 09:15:32', 'sender': 'rahul@company.com', 'content': 'Pull Request #342 has been raised for the latest bug fix. Please review and approve.'},\n",
    "    {'timestamp': '2025-02-21 10:05:14', 'sender': 'rajesh@company.com', 'content': 'There is an issue with the API response time. I have raised ticket #5678 for investigation.'},\n",
    "    {'timestamp': '2025-02-21 11:32:45', 'sender': 'ram@company.com', 'content': 'Assigning task #1254 to John for UI improvements. Deadline is Friday.'},\n",
    "    {'timestamp': '2025-02-21 12:47:21', 'sender': 'raghu@company.com', 'content': 'Pull Request #345 is ready for review. This includes performance optimizations.'},\n",
    "    {'timestamp': '2025-02-21 14:03:09', 'sender': 'raghav@company.com', 'content': 'Created a new task #567 for backend refactoring. Let me know who can take it.'},\n",
    "    {'timestamp': '2025-02-21 15:25:34', 'sender': 'raju@company.com', 'content': 'The security vulnerability reported last week has been patched. Pull Request(PR) #349 raised.'},\n",
    "    {'timestamp': '2025-02-21 16:12:50', 'sender': 'ramu@company.com', 'content': 'The deployment pipeline failed due to a misconfiguration. Issue #7890 has been logged.'},\n",
    "    {'timestamp': '2025-02-21 17:44:12', 'sender': 'roshan@company.com', 'content': 'Assigning ticket #982 to the DevOps team for infrastructure scaling.'},\n",
    "    {'timestamp': '2025-02-21 18:56:40', 'sender': 'rohit@company.com', 'content': 'Pull Request #350 contains the latest API enhancements. Please review before EOD.'},\n",
    "    {'timestamp': '2025-02-21 19:30:15', 'sender': 'rao@company.com', 'content': 'Raised issue #4567 regarding broken openai api. Need urgent fix.'},\n",
    "    {'timestamp': '2025-02-21 19:30:15', 'sender': 'ramesh@company.com', 'content': 'Get to know obstacle detection in autonomous cars, we need to gain a deeper understanding of the concept in order to implement it in upcoming project'}\n",
    "    ]\n",
    "\n",
    "    query = \"get emails related to pull requests\"\n",
    "\n",
    "    \n",
    "    \n",
    "    result = generate_response(emails,query)\n",
    "\n",
    "\n",
    "    print(\"FINAL RESULT: \")\n",
    "    print(result)\n",
    "    "
   ]
  },
  {
   "cell_type": "markdown",
   "id": "bb6825dc-579a-4149-a168-fcadfb2b736a",
   "metadata": {},
   "source": [
    "<h2>Results</h2>"
   ]
  },
  {
   "cell_type": "code",
   "execution_count": 9,
   "id": "cac05f2f-fc34-4e8f-bee3-8ce5db94f70f",
   "metadata": {},
   "outputs": [
    {
     "name": "stdout",
     "output_type": "stream",
     "text": [
      "QUERY get emails related to pull requests\n",
      "\n",
      "\n",
      "\u001b[1m> Entering new AgentExecutor chain...\u001b[0m\n"
     ]
    },
    {
     "name": "stderr",
     "output_type": "stream",
     "text": [
      "C:\\Users\\butta\\AppData\\Local\\Temp\\ipykernel_13416\\3540010370.py:50: LangChainDeprecationWarning: LangChain agents will continue to be supported, but it is recommended for new use cases to be built with LangGraph. LangGraph offers a more flexible and full-featured framework for building agents, including support for tool-calling, persistence of state, and human-in-the-loop workflows. For details, refer to the `LangGraph documentation <https://langchain-ai.github.io/langgraph/>`_ as well as guides for `Migrating from AgentExecutor <https://python.langchain.com/docs/how_to/migrate_agent/>`_ and LangGraph's `Pre-built ReAct agent <https://langchain-ai.github.io/langgraph/how-tos/create-react-agent/>`_.\n",
      "  agent = initialize_agent(\n",
      "C:\\Users\\butta\\AppData\\Local\\Temp\\ipykernel_13416\\3540010370.py:60: LangChainDeprecationWarning: The method `Chain.run` was deprecated in langchain 0.1.0 and will be removed in 1.0. Use :meth:`~invoke` instead.\n",
      "  response = agent.run(\n"
     ]
    },
    {
     "name": "stdout",
     "output_type": "stream",
     "text": [
      "\u001b[32;1m\u001b[1;3mOkay, I can analyze the query and determine the best tool to use.\n",
      "\n",
      "**Query Breakdown:**\n",
      "\n",
      "*   **Topic:** Pull requests\n",
      "*   **Type:** Emails\n",
      "*   **Goal:** Retrieve emails specifically related to pull requests.\n",
      "\n",
      "**Tool Selection:**\n",
      "\n",
      "The most appropriate tool for this query is `email_search`. This is because the query explicitly asks for emails, and `email_search` is designed to search through email content.\n",
      "\n",
      "**Action:**\n",
      "```json\n",
      "{\n",
      "  \"action\": \"email_search\",\n",
      "  \"action_input\": \"pull requests\"\n",
      "}\n",
      "```\n",
      "\u001b[0m\n",
      "Observation: \u001b[36;1m\u001b[1;3m[{'timestamp': '2025-02-20 12:47:21', 'sender': 'raghu@company.com', 'content': 'Pull Request #12 is ready for review. This includes performance optimizations.'}, {'timestamp': '2025-02-20 15:25:34', 'sender': 'raju@company.com', 'content': 'The security vulnerability reported last week has been patched. Pull Request(PR) #14 raised.'}, {'timestamp': '2025-02-19 18:56:40', 'sender': 'rohit@company.com', 'content': 'Pull Request #16 contains the latest API enhancements. Please review before EOD.'}]\u001b[0m\n",
      "Thought:\u001b[32;1m\u001b[1;3mI have the results from the email search. Now I will present the final answer including the breakdown and the tool used.\n",
      "Action:\n",
      "```json\n",
      "{\n",
      "  \"action\": \"Final Answer\",\n",
      "  \"action_input\": \"Okay, I have analyzed the query and retrieved the relevant emails.\\n\\n**Query Breakdown:**\\n\\n*   **Topic:** Pull requests\\n*   **Type:** Emails\\n*   **Goal:** Retrieve emails specifically related to pull requests.\\n\\n**Tool Selection:**\\n\\nThe most appropriate tool for this query is `email_search`. This is because the query explicitly asks for emails, and `email_search` is designed to search through email content.\\n\\n**Results:**\\n\\nHere are the emails related to pull requests:\\n\\n*   **Timestamp:** 2025-02-20 12:47:21, **Sender:** raghu@company.com, **Content:** Pull Request #12 is ready for review. This includes performance optimizations.\\n*   **Timestamp:** 2025-02-20 15:25:34, **Sender:** raju@company.com, **Content:** The security vulnerability reported last week has been patched. Pull Request(PR) #14 raised.\\n*   **Timestamp:** 2025-02-19 18:56:40, **Sender:** rohit@company.com, **Content:** Pull Request #16 contains the latest API enhancements. Please review before EOD.\"\n",
      "}\n",
      "```\u001b[0m\n",
      "\n",
      "\u001b[1m> Finished chain.\u001b[0m\n",
      "FINAL RESULT: \n",
      "Okay, I have analyzed the query and retrieved the relevant emails.\n",
      "\n",
      "**Query Breakdown:**\n",
      "\n",
      "*   **Topic:** Pull requests\n",
      "*   **Type:** Emails\n",
      "*   **Goal:** Retrieve emails specifically related to pull requests.\n",
      "\n",
      "**Tool Selection:**\n",
      "\n",
      "The most appropriate tool for this query is `email_search`. This is because the query explicitly asks for emails, and `email_search` is designed to search through email content.\n",
      "\n",
      "**Results:**\n",
      "\n",
      "Here are the emails related to pull requests:\n",
      "\n",
      "*   **Timestamp:** 2025-02-20 12:47:21, **Sender:** raghu@company.com, **Content:** Pull Request #12 is ready for review. This includes performance optimizations.\n",
      "*   **Timestamp:** 2025-02-20 15:25:34, **Sender:** raju@company.com, **Content:** The security vulnerability reported last week has been patched. Pull Request(PR) #14 raised.\n",
      "*   **Timestamp:** 2025-02-19 18:56:40, **Sender:** rohit@company.com, **Content:** Pull Request #16 contains the latest API enhancements. Please review before EOD.\n"
     ]
    }
   ],
   "source": [
    "if __name__ == \"__main__\":\n",
    "    main()"
   ]
  },
  {
   "cell_type": "markdown",
   "id": "fc6e7e53-3575-4850-b211-4a1e61412741",
   "metadata": {},
   "source": []
  },
  {
   "cell_type": "code",
   "execution_count": null,
   "id": "06513ea7-9347-41df-8ea4-b2512c6b6e27",
   "metadata": {},
   "outputs": [],
   "source": [
    "emails = [\n",
    "    {'timestamp': '2025-02-21 09:15:32', 'sender': 'rahul@company.com', 'content': 'Pull Request #342 has been raised for the latest bug fix. Please review and approve.'},\n",
    "    {'timestamp': '2025-02-21 10:05:14', 'sender': 'rajesh@company.com', 'content': 'There is an issue with the API response time. I have raised ticket #5678 for investigation.'},\n",
    "    {'timestamp': '2025-02-21 11:32:45', 'sender': 'ram@company.com', 'content': 'Assigning task #1254 to John for UI improvements. Deadline is Friday.'},\n",
    "    {'timestamp': '2025-02-21 12:47:21', 'sender': 'raghu@company.com', 'content': 'Pull Request #345 is ready for review. This includes performance optimizations.'},\n",
    "    {'timestamp': '2025-02-21 14:03:09', 'sender': 'raghav@company.com', 'content': 'Created a new task #567 for backend refactoring. Let me know who can take it.'},\n",
    "    {'timestamp': '2025-02-21 15:25:34', 'sender': 'raju@company.com', 'content': 'The security vulnerability reported last week has been patched. Pull Request(PR) #349 raised.'},\n",
    "    {'timestamp': '2025-02-21 16:12:50', 'sender': 'ramu@company.com', 'content': 'The deployment pipeline failed due to a misconfiguration. Issue #7890 has been logged.'},\n",
    "    {'timestamp': '2025-02-21 17:44:12', 'sender': 'roshan@company.com', 'content': 'Assigning ticket #982 to the DevOps team for infrastructure scaling.'},\n",
    "    {'timestamp': '2025-02-21 18:56:40', 'sender': 'rohit@company.com', 'content': 'Pull Request #350 contains the latest API enhancements. Please review before EOD.'},\n",
    "    {'timestamp': '2025-02-21 19:30:15', 'sender': 'rao@company.com', 'content': 'Raised issue #4567 regarding broken openai api. Need urgent fix.'},\n",
    "    {'timestamp': '2025-02-21 19:30:15', 'sender': 'ramesh@company.com', 'content': 'Get to know obstacle detection in autonomous cars, we need to gain a deeper understanding of the concept in order to implement it in upcoming project'}\n",
    "    ]\n",
    "\n",
    "query2 = \"find the emails related bugs and seach online on how to solve them\"\n",
    "\n",
    "    \n",
    "    \n",
    "result = generate_response(emails,query2)\n",
    "print(result)"
   ]
  },
  {
   "cell_type": "markdown",
   "id": "f11721ef-8336-46a0-a650-babd9c78d3d0",
   "metadata": {},
   "source": []
  },
  {
   "cell_type": "code",
   "execution_count": 11,
   "id": "270679f4-4f83-46b7-924c-ba35aeabd5b6",
   "metadata": {},
   "outputs": [
    {
     "name": "stdout",
     "output_type": "stream",
     "text": [
      "The query was analyzed and broken down into two parts: finding emails related to bugs and searching online for solutions. The `email_search` tool was used to find emails containing the keyword 'bugs'. The `web_search` tool was then used to search for solutions related to 'security vulnerability patch' and 'software bug fix', based on the content of the emails found. The search results provided information on the purpose of software patches, the importance of testing, patch management, and scheduling deployments.\n"
     ]
    }
   ],
   "source": [
    "print(result)"
   ]
  },
  {
   "cell_type": "markdown",
   "id": "6b4e0cd8-6536-4a5b-9222-3399f2072ad7",
   "metadata": {},
   "source": [
    "query3 = \"What services does carnotreseach pvt ltd provide\"\n",
    "result = generate_response(emails,query3)"
   ]
  },
  {
   "cell_type": "code",
   "execution_count": 20,
   "id": "9b68418c-6fd5-4123-a4ee-72d6472710f9",
   "metadata": {},
   "outputs": [
    {
     "name": "stdout",
     "output_type": "stream",
     "text": [
      "Okay, here's the breakdown and the answer to your query:\n",
      "\n",
      "**Analysis:**\n",
      "*   **Entity:** carnotreseach pvt ltd\n",
      "*   **Intent:** To discover the services offered by the specified company.\n",
      "*   **Type:** Fact-seeking.\n",
      "\n",
      "**Tool Selection:**\n",
      "The most suitable tool is `company_website_search` because the query explicitly asks about the services of a specific company. This tool is designed to search the company's website for relevant information.\n",
      "\n",
      "**Services Provided by Carnot Research Pvt Ltd:**\n",
      "\n",
      "Carnot Research develops cutting-edge technology products and provides research services and industry skilling in niche and deep tech areas, namely AI, Computer Vision, AR/VR, NLP and IoT. They offer research consultancy, industry skilling, and IP development services across various industries including Healthcare, Retail, Manufacturing, Telecom, Media, IoT, Security, Cyber Security, Finance and Sports. They conduct research primarily in Computer Vision and NLP.\n"
     ]
    }
   ],
   "source": [
    "print(result)"
   ]
  },
  {
   "cell_type": "markdown",
   "id": "c525b0e9-9552-411a-923a-6c788ee79c90",
   "metadata": {},
   "source": [
    "<h1>Results</h1>"
   ]
  },
  {
   "cell_type": "markdown",
   "id": "c74360c2-5460-41b0-a6ca-babdcc630c23",
   "metadata": {},
   "source": [
    "<h2>Result 1</h2>\n",
    "<p><strong>For query : get emails related to pull requests</strong></p>\n",
    "FINAL RESULT: \n",
    "Okay, I have analyzed the query and retrieved the relevant emails.\n",
    "\n",
    "**Query Breakdown:**\n",
    "\n",
    "*   **Topic:** Pull requests\n",
    "*   **Type:** Emails\n",
    "*   **Goal:** Retrieve emails specifically related to pull requests.\n",
    "\n",
    "**Tool Selection:**\n",
    "\n",
    "The most appropriate tool for this query is `email_search`. This is because the query explicitly asks for emails, and `email_search` is designed to search through email content.\n",
    "\n",
    "**Results:**\n",
    "\n",
    "Here are the emails related to pull requests:\n",
    "\n",
    "*   **Timestamp:** 2025-02-20 12:47:21, **Sender:** raghu@company.com, **Content:** Pull Request #12 is ready for review. This includes performance optimizations.\n",
    "*   **Timestamp:** 2025-02-20 15:25:34, **Sender:** raju@company.com, **Content:** The security vulnerability reported last week has been patched. Pull Request(PR) #14 raised.\n",
    "*   **Timestamp:** 2025-02-19 18:56:40, **Sender:** rohit@company.com, **Content:** Pull Request #16 contains the latest API enhancements. Please review before EOD."
   ]
  },
  {
   "cell_type": "markdown",
   "id": "9839692f-8c67-4f28-a398-29c95b82f3ef",
   "metadata": {},
   "source": [
    "<h2>Result 2</h2>\n",
    "<p><strong>For query: find the emails related bugs and seach online on how to solve them</strong> </p>\n",
    "<p>The query was analyzed and broken down into two parts: finding emails related to bugs and searching online for solutions. The `email_search` tool was used to find emails containing the keyword 'bugs'. The `web_search` tool was then used to search for solutions related to 'security vulnerability patch' and 'software bug fix', based on the content of the emails found. The search results provided information on the purpose of software patches, the importance of testing, patch management, and scheduling deployments.</p>"
   ]
  },
  {
   "cell_type": "markdown",
   "id": "d6342030-bb78-456c-b345-364edd0c6b5b",
   "metadata": {},
   "source": [
    "<h2>Result 3</h2>\n",
    "<p><strong>For query: What services does carnotreseach pvt ltd provide <strong></p>\n",
    "Okay, here's the breakdown and the answer to your query:\n",
    "\n",
    "**Analysis:**\n",
    "*   **Entity:** carnotreseach pvt ltd\n",
    "*   **Intent:** To discover the services offered by the specified company.\n",
    "*   **Type:** Fact-seeking.\n",
    "\n",
    "**Tool Selection:**\n",
    "The most suitable tool is `company_website_search` because the query explicitly asks about the services of a specific company. This tool is designed to search the company's website for relevant information.\n",
    "\n",
    "**Services Provided by Carnot Research Pvt Ltd:**\n",
    "\n",
    "Carnot Research develops cutting-edge technology products and provides research services and industry skilling in niche and deep tech areas, namely AI, Computer Vision, AR/VR, NLP and IoT. They offer research consultancy, industry skilling, and IP development services across various industries including Healthcare, Retail, Manufacturing, Telecom, Media, IoT, Security, Cyber Security, Finance and Sports. They conduct research primarily in Computer Vision and NLP.\n"
   ]
  }
 ],
 "metadata": {
  "kernelspec": {
   "display_name": "Python 3 (ipykernel)",
   "language": "python",
   "name": "python3"
  },
  "language_info": {
   "codemirror_mode": {
    "name": "ipython",
    "version": 3
   },
   "file_extension": ".py",
   "mimetype": "text/x-python",
   "name": "python",
   "nbconvert_exporter": "python",
   "pygments_lexer": "ipython3",
   "version": "3.11.7"
  }
 },
 "nbformat": 4,
 "nbformat_minor": 5
}
